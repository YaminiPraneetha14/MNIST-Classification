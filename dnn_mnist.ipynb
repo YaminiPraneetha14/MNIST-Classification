{
  "cells": [
    {
      "cell_type": "markdown",
      "metadata": {
        "id": "jIiloEnMDoOs"
      },
      "source": [
        "# Dense Deep Neural Network: Handwritten Digit Recognition"
      ]
    },
    {
      "cell_type": "markdown",
      "metadata": {
        "id": "n3MVZ2-aDoOw"
      },
      "source": [
        "This notebook uses the classic [MNIST handwritten digit](http://yann.lecun.com/exdb/mnist/) dataset, which contains digit 0-9 images of size 28*28. We build a dense neural network to predict the class of digit."
      ]
    },
    {
      "cell_type": "code",
      "execution_count": null,
      "metadata": {
        "id": "qqTfRTB3DoOw"
      },
      "outputs": [],
      "source": [
        "import matplotlib.pyplot as plt\n",
        "import numpy as np\n",
        "import pandas as pd\n",
        "import time\n",
        "\n",
        "import tensorflow as tf\n",
        "from tensorflow import keras\n",
        "from tensorflow.keras import layers\n",
        "from tensorflow.keras.datasets import mnist"
      ]
    },
    {
      "cell_type": "markdown",
      "metadata": {
        "id": "vsjIKgXADoOy"
      },
      "source": [
        "## The MNIST dataset"
      ]
    },
    {
      "cell_type": "markdown",
      "metadata": {
        "id": "NfFiS-FlDoOy"
      },
      "source": [
        "### Get the data\n",
        "MNIST dataset is provided by Keras directly. The following codes show how to load it. "
      ]
    },
    {
      "cell_type": "code",
      "execution_count": null,
      "metadata": {
        "colab": {
          "base_uri": "https://localhost:8080/"
        },
        "id": "SdFK8ZYuDoOz",
        "outputId": "2ec47fe2-e58c-4bcf-9936-e5f26c291ba9"
      },
      "outputs": [
        {
          "output_type": "stream",
          "name": "stdout",
          "text": [
            "Help on function load_data in module keras.datasets.mnist:\n",
            "\n",
            "load_data(path='mnist.npz')\n",
            "    Loads the MNIST dataset.\n",
            "    \n",
            "    This is a dataset of 60,000 28x28 grayscale images of the 10 digits,\n",
            "    along with a test set of 10,000 images.\n",
            "    More info can be found at the\n",
            "    [MNIST homepage](http://yann.lecun.com/exdb/mnist/).\n",
            "    \n",
            "    Args:\n",
            "      path: path where to cache the dataset locally\n",
            "        (relative to `~/.keras/datasets`).\n",
            "    \n",
            "    Returns:\n",
            "      Tuple of NumPy arrays: `(x_train, y_train), (x_test, y_test)`.\n",
            "    \n",
            "    **x_train**: uint8 NumPy array of grayscale image data with shapes\n",
            "      `(60000, 28, 28)`, containing the training data. Pixel values range\n",
            "      from 0 to 255.\n",
            "    \n",
            "    **y_train**: uint8 NumPy array of digit labels (integers in range 0-9)\n",
            "      with shape `(60000,)` for the training data.\n",
            "    \n",
            "    **x_test**: uint8 NumPy array of grayscale image data with shapes\n",
            "      (10000, 28, 28), containing the test data. Pixel values range\n",
            "      from 0 to 255.\n",
            "    \n",
            "    **y_test**: uint8 NumPy array of digit labels (integers in range 0-9)\n",
            "      with shape `(10000,)` for the test data.\n",
            "    \n",
            "    Example:\n",
            "    \n",
            "    ```python\n",
            "    (x_train, y_train), (x_test, y_test) = keras.datasets.mnist.load_data()\n",
            "    assert x_train.shape == (60000, 28, 28)\n",
            "    assert x_test.shape == (10000, 28, 28)\n",
            "    assert y_train.shape == (60000,)\n",
            "    assert y_test.shape == (10000,)\n",
            "    ```\n",
            "    \n",
            "    License:\n",
            "      Yann LeCun and Corinna Cortes hold the copyright of MNIST dataset,\n",
            "      which is a derivative work from original NIST datasets.\n",
            "      MNIST dataset is made available under the terms of the\n",
            "      [Creative Commons Attribution-Share Alike 3.0 license.](\n",
            "      https://creativecommons.org/licenses/by-sa/3.0/)\n",
            "\n"
          ]
        }
      ],
      "source": [
        "help(mnist.load_data)"
      ]
    },
    {
      "cell_type": "code",
      "execution_count": null,
      "metadata": {
        "tags": [],
        "colab": {
          "base_uri": "https://localhost:8080/"
        },
        "id": "T0nWrO45DoOz",
        "outputId": "801b64b0-4b2a-49fc-bd05-f10ebda1c08a"
      },
      "outputs": [
        {
          "output_type": "stream",
          "name": "stdout",
          "text": [
            "Downloading data from https://storage.googleapis.com/tensorflow/tf-keras-datasets/mnist.npz\n",
            "11490434/11490434 [==============================] - 0s 0us/step\n"
          ]
        }
      ],
      "source": [
        "# the data, shuffled and split between train and test sets \n",
        "np.random.seed(0)\n",
        "tf.random.set_seed(0) \n",
        "(X_train_pre, y_train_pre), (X_test_pre, y_test_pre) = mnist.load_data()"
      ]
    },
    {
      "cell_type": "markdown",
      "metadata": {
        "id": "z7882vg4DoO0"
      },
      "source": [
        "### Reshape and normalize the features"
      ]
    },
    {
      "cell_type": "code",
      "execution_count": null,
      "metadata": {
        "colab": {
          "base_uri": "https://localhost:8080/"
        },
        "id": "qea4AG_oDoO0",
        "outputId": "7f5bc788-90bc-44a2-f0a0-1822bf45639e"
      },
      "outputs": [
        {
          "output_type": "stream",
          "name": "stdout",
          "text": [
            "training data shape: (60000, 784)\n",
            "60000 train samples, 10000 test samples\n"
          ]
        }
      ],
      "source": [
        "input_dim = 784 # 28*28\n",
        "X_train = X_train_pre.reshape(X_train_pre.shape[0], input_dim) \n",
        "X_test = X_test_pre.reshape(X_test_pre.shape[0], input_dim) \n",
        "X_train = X_train.astype('float32') \n",
        "X_test = X_test.astype('float32') \n",
        "X_train /= 255. \n",
        "X_test /= 255.\n",
        "\n",
        "print('training data shape:', X_train.shape)\n",
        "print('{} train samples, {} test samples'.format(X_train.shape[0], X_test.shape[0]))"
      ]
    },
    {
      "cell_type": "markdown",
      "metadata": {
        "id": "7bjtL7BDDoO1"
      },
      "source": [
        "### convert class vectors to binary class matrices\n",
        "convert class label to one-hot coding"
      ]
    },
    {
      "cell_type": "code",
      "execution_count": null,
      "metadata": {
        "colab": {
          "base_uri": "https://localhost:8080/"
        },
        "id": "URAQPbyBDoO1",
        "outputId": "36c7f78e-3ff8-4c02-8a27-f18272ebe550"
      },
      "outputs": [
        {
          "output_type": "execute_result",
          "data": {
            "text/plain": [
              "array([[0., 0., 0., 0., 0., 1., 0., 0., 0., 0.],\n",
              "       [1., 0., 0., 0., 0., 0., 0., 0., 0., 0.],\n",
              "       [0., 0., 0., 0., 1., 0., 0., 0., 0., 0.],\n",
              "       [0., 1., 0., 0., 0., 0., 0., 0., 0., 0.],\n",
              "       [0., 0., 0., 0., 0., 0., 0., 0., 0., 1.]], dtype=float32)"
            ]
          },
          "metadata": {},
          "execution_count": 5
        }
      ],
      "source": [
        "num_classes = 10 # 0-9\n",
        "y_train = keras.utils.to_categorical(y_train_pre, num_classes)\n",
        "y_test = keras.utils.to_categorical(y_test_pre, num_classes)\n",
        "# the first 5 samples are 5,0,4,1,9\n",
        "y_train[:5,] "
      ]
    },
    {
      "cell_type": "code",
      "execution_count": null,
      "metadata": {
        "colab": {
          "base_uri": "https://localhost:8080/"
        },
        "id": "247f4qd-DoO1",
        "outputId": "c3ca93b3-0b3d-405f-9665-7eb7e2af2769"
      },
      "outputs": [
        {
          "output_type": "stream",
          "name": "stdout",
          "text": [
            "training data shape: (50000, 784)\n",
            "50000 train samples, 10000 validation samples, 10000 test samples\n"
          ]
        }
      ],
      "source": [
        "validation_split = 0.166667\n",
        "index = np.random.permutation(X_train.shape[0])\n",
        "\n",
        "train_idx = int(X_train.shape[0]*validation_split)\n",
        "\n",
        "X_val, X_train = X_train[index[:train_idx]], X_train[index[train_idx:]]\n",
        "y_val, y_train = y_train[index[:train_idx]], y_train[index[train_idx:]]\n",
        "\n",
        "print('training data shape:', X_train.shape)\n",
        "print('{} train samples, {} validation samples, {} test samples'\\\n",
        "      .format(X_train.shape[0], X_val.shape[0], X_test.shape[0]))"
      ]
    },
    {
      "cell_type": "markdown",
      "metadata": {
        "id": "u6aWjt1bDoO2"
      },
      "source": [
        "## The model"
      ]
    },
    {
      "cell_type": "markdown",
      "metadata": {
        "id": "kdV5xKL6DoO2"
      },
      "source": [
        "### Build the model"
      ]
    },
    {
      "cell_type": "code",
      "execution_count": null,
      "metadata": {
        "id": "dcKW91j0DoO2"
      },
      "outputs": [],
      "source": [
        "#from keras.layers import Dropout\n",
        "\n",
        "model = keras.Sequential()\n",
        "model.add(layers.Dense(512, activation='relu', input_shape=(784,)))\n",
        "model.add(layers.Dense(128, activation='relu')) \n",
        "model.add(layers.Dense(10, activation='softmax'))\n",
        "model.compile(loss='categorical_crossentropy',\n",
        "              optimizer=keras.optimizers.Adadelta(1),\n",
        "              metrics=['accuracy'])"
      ]
    },
    {
      "cell_type": "markdown",
      "metadata": {
        "id": "bIMoR_U6DoO2"
      },
      "source": [
        "### Inspect the model\n",
        "\n",
        "Use the `.summary` method to print a simple description of the model"
      ]
    },
    {
      "cell_type": "code",
      "execution_count": null,
      "metadata": {
        "colab": {
          "base_uri": "https://localhost:8080/"
        },
        "id": "Rt_B8VBHDoO3",
        "outputId": "4ca7bd0f-0968-4802-f60c-d9e01310d5e2"
      },
      "outputs": [
        {
          "output_type": "stream",
          "name": "stdout",
          "text": [
            "Model: \"sequential_1\"\n",
            "_________________________________________________________________\n",
            " Layer (type)                Output Shape              Param #   \n",
            "=================================================================\n",
            " dense_3 (Dense)             (None, 512)               401920    \n",
            "                                                                 \n",
            " dense_4 (Dense)             (None, 128)               65664     \n",
            "                                                                 \n",
            " dense_5 (Dense)             (None, 10)                1290      \n",
            "                                                                 \n",
            "=================================================================\n",
            "Total params: 468,874\n",
            "Trainable params: 468,874\n",
            "Non-trainable params: 0\n",
            "_________________________________________________________________\n"
          ]
        }
      ],
      "source": [
        "model.summary()"
      ]
    },
    {
      "cell_type": "markdown",
      "metadata": {
        "id": "UyuyCy7eDoO3"
      },
      "source": [
        "### Train the model"
      ]
    },
    {
      "cell_type": "code",
      "execution_count": null,
      "metadata": {
        "colab": {
          "base_uri": "https://localhost:8080/"
        },
        "id": "73a7iawoDoO3",
        "outputId": "e4c7d566-442b-490f-a4b7-8a0d6c8b2e89"
      },
      "outputs": [
        {
          "output_type": "stream",
          "name": "stdout",
          "text": [
            "Epoch 1/10\n",
            "391/391 [==============================] - 5s 13ms/step - loss: 0.2924 - accuracy: 0.9117 - val_loss: 0.1584 - val_accuracy: 0.9526\n",
            "Epoch 2/10\n",
            "391/391 [==============================] - 6s 15ms/step - loss: 0.1121 - accuracy: 0.9660 - val_loss: 0.0932 - val_accuracy: 0.9717\n",
            "Epoch 3/10\n",
            "391/391 [==============================] - 4s 11ms/step - loss: 0.0730 - accuracy: 0.9790 - val_loss: 0.0779 - val_accuracy: 0.9763\n",
            "Epoch 4/10\n",
            "391/391 [==============================] - 5s 12ms/step - loss: 0.0503 - accuracy: 0.9846 - val_loss: 0.0700 - val_accuracy: 0.9788\n",
            "Epoch 5/10\n",
            "391/391 [==============================] - 6s 14ms/step - loss: 0.0364 - accuracy: 0.9886 - val_loss: 0.0625 - val_accuracy: 0.9801\n",
            "Epoch 6/10\n",
            "391/391 [==============================] - 4s 11ms/step - loss: 0.0272 - accuracy: 0.9920 - val_loss: 0.0656 - val_accuracy: 0.9809\n",
            "Epoch 7/10\n",
            "391/391 [==============================] - 7s 17ms/step - loss: 0.0190 - accuracy: 0.9947 - val_loss: 0.0629 - val_accuracy: 0.9816\n",
            "Epoch 8/10\n",
            "391/391 [==============================] - 5s 13ms/step - loss: 0.0136 - accuracy: 0.9967 - val_loss: 0.0614 - val_accuracy: 0.9806\n",
            "Epoch 9/10\n",
            "391/391 [==============================] - 5s 14ms/step - loss: 0.0095 - accuracy: 0.9978 - val_loss: 0.0690 - val_accuracy: 0.9811\n",
            "Epoch 10/10\n",
            "391/391 [==============================] - 5s 13ms/step - loss: 0.0066 - accuracy: 0.9987 - val_loss: 0.0642 - val_accuracy: 0.9819\n"
          ]
        }
      ],
      "source": [
        "EPOCHS = 10\n",
        "\n",
        "history = model.fit(X_train, y_train,\n",
        "                    batch_size=128, epochs=EPOCHS,\n",
        "                    validation_data=(X_val, y_val))"
      ]
    },
    {
      "cell_type": "code",
      "execution_count": null,
      "metadata": {
        "colab": {
          "base_uri": "https://localhost:8080/",
          "height": 279
        },
        "id": "JjEU_gk-DoO3",
        "outputId": "0c4e2c1b-04e0-43fa-8a34-1c6ffb0da798"
      },
      "outputs": [
        {
          "output_type": "display_data",
          "data": {
            "text/plain": [
              "<Figure size 432x288 with 1 Axes>"
            ],
            "image/png": "[encoded data removed]"
          },
          "metadata": {
            "needs_background": "light"
          }
        }
      ],
      "source": [
        "def plot_history(history):\n",
        "    hist = pd.DataFrame(history.history)\n",
        "    hist['epoch'] = history.epoch\n",
        "    hist.tail()\n",
        "\n",
        "    plt.figure()\n",
        "    plt.xlabel('Epoch')\n",
        "    plt.ylabel('Accuracy')\n",
        "    plt.plot(hist['epoch'], hist['accuracy'], label=\"train\")\n",
        "    plt.plot(hist['epoch'], hist['val_accuracy'], label=\"val\")\n",
        "    plt.legend()\n",
        "    plt.show()\n",
        "\n",
        "plot_history(history)"
      ]
    },
    {
      "cell_type": "markdown",
      "metadata": {
        "id": "1rswh9D8DoO3"
      },
      "source": [
        "### Make predictions"
      ]
    },
    {
      "cell_type": "markdown",
      "metadata": {
        "id": "BXlie2X3DoO3"
      },
      "source": [
        "Calculate the classification accuracy for testing set"
      ]
    },
    {
      "cell_type": "code",
      "execution_count": null,
      "metadata": {
        "colab": {
          "base_uri": "https://localhost:8080/"
        },
        "id": "EVbfR313DoO4",
        "outputId": "eb5c058f-3298-4383-f45b-12b8dbd2d6c8"
      },
      "outputs": [
        {
          "output_type": "stream",
          "name": "stdout",
          "text": [
            "Testing set accuracy: 98.17%\n"
          ]
        }
      ],
      "source": [
        "_, acc = model.evaluate(X_test, y_test, verbose=0)\n",
        "\n",
        "print(\"Testing set accuracy: {:.2f}%\".format(acc*100))"
      ]
    },
    {
      "cell_type": "markdown",
      "metadata": {
        "id": "xq88SU1NDoO4"
      },
      "source": [
        "Make predictions for testing data"
      ]
    },
    {
      "cell_type": "code",
      "execution_count": null,
      "metadata": {
        "colab": {
          "base_uri": "https://localhost:8080/"
        },
        "id": "HE_ECEMPDoO4",
        "outputId": "0873f985-b753-4cde-c10a-421ab4a176e6"
      },
      "outputs": [
        {
          "output_type": "stream",
          "name": "stdout",
          "text": [
            "313/313 [==============================] - 1s 3ms/step\n"
          ]
        },
        {
          "output_type": "execute_result",
          "data": {
            "text/plain": [
              "array([7, 2, 1, 0, 4])"
            ]
          },
          "metadata": {},
          "execution_count": 16
        }
      ],
      "source": [
        "y_pred = np.argmax(model.predict(X_test), axis=-1)\n",
        "y_pred[:5]"
      ]
    },
    {
      "cell_type": "markdown",
      "metadata": {
        "id": "WAkQ26KkDoO4"
      },
      "source": [
        "Visualize predictions"
      ]
    },
    {
      "cell_type": "code",
      "execution_count": null,
      "metadata": {
        "colab": {
          "base_uri": "https://localhost:8080/",
          "height": 540
        },
        "id": "3yj88h0NDoO4",
        "outputId": "627df5d4-ad68-477a-be22-2a16cdead917"
      },
      "outputs": [
        {
          "output_type": "display_data",
          "data": {
            "text/plain": [
              "<Figure size 648x648 with 9 Axes>"
            ],
            "image/png": "[encoded data removed]"
          },
          "metadata": {}
        }
      ],
      "source": [
        "fig = plt.figure(figsize=(9, 9))\n",
        "col = 3\n",
        "row = 3\n",
        "for i in range(1, col*row +1):\n",
        "    pred = y_pred[i]\n",
        "    img = X_test_pre[i,:]\n",
        "    fig.add_subplot(row, col, i)\n",
        "    plt.title('Predicted label is {}'.format(pred))\n",
        "    plt.xticks([])\n",
        "    plt.yticks([])\n",
        "    plt.imshow(img, cmap='gray')\n",
        "plt.show()"
      ]
    },
    {
      "cell_type": "markdown",
      "metadata": {
        "id": "YSZlfvmQDoO4"
      },
      "source": [
        "## Early Stopping"
      ]
    },
    {
      "cell_type": "code",
      "execution_count": null,
      "metadata": {
        "colab": {
          "base_uri": "https://localhost:8080/"
        },
        "id": "OYd6nqBmDoO4",
        "outputId": "f30ea6d4-f09d-45f3-a7b6-019eab80d073"
      },
      "outputs": [
        {
          "output_type": "stream",
          "name": "stdout",
          "text": [
            "Epoch 1/10\n",
            "391/391 [==============================] - 6s 15ms/step - loss: 0.0041 - accuracy: 0.9994 - val_loss: 0.0611 - val_accuracy: 0.9844\n",
            "Epoch 2/10\n",
            "391/391 [==============================] - 5s 12ms/step - loss: 0.0025 - accuracy: 0.9997 - val_loss: 0.0612 - val_accuracy: 0.9840\n"
          ]
        }
      ],
      "source": [
        "EPOCHS = 10\n",
        "\n",
        "early_stop = keras.callbacks.EarlyStopping(monitor='val_loss', patience=1)\n",
        "\n",
        "\n",
        "history = model.fit(X_train, y_train,\n",
        "                    batch_size=128, epochs=EPOCHS,\n",
        "                    validation_data=(X_val, y_val),\n",
        "                    callbacks=[early_stop])"
      ]
    },
    {
      "cell_type": "code",
      "execution_count": null,
      "metadata": {
        "colab": {
          "base_uri": "https://localhost:8080/"
        },
        "id": "77OVqrWtDoO5",
        "outputId": "798d1a26-e44c-49a6-c983-e511efb18c3e"
      },
      "outputs": [
        {
          "output_type": "stream",
          "name": "stdout",
          "text": [
            "Testing set accuracy: 98.26%\n"
          ]
        }
      ],
      "source": [
        "_, acc = model.evaluate(X_test, y_test, verbose=0)\n",
        "\n",
        "print(\"Testing set accuracy: {:.2f}%\".format(acc*100))"
      ]
    }
  ],
  "metadata": {
    "kernelspec": {
      "display_name": "Python 3",
      "language": "python",
      "name": "python3"
    },
    "language_info": {
      "codemirror_mode": {
        "name": "ipython",
        "version": 3
      },
      "file_extension": ".py",
      "mimetype": "text/x-python",
      "name": "python",
      "nbconvert_exporter": "python",
      "pygments_lexer": "ipython3",
      "version": "3.9.5"
    },
    "colab": {
      "provenance": []
    }
  },
  "nbformat": 4,
  "nbformat_minor": 0
}